{
 "cells": [
  {
   "cell_type": "code",
   "execution_count": 1,
   "metadata": {},
   "outputs": [],
   "source": [
    "import timeit\n",
    "from datetime import datetime\n",
    "import socket\n",
    "import os\n",
    "import glob\n",
    "from tqdm import tqdm\n",
    "\n",
    "import torch\n",
    "from tensorboardX import SummaryWriter\n",
    "from torch import nn, optim\n",
    "\n",
    "from torch.utils.data import DataLoader\n",
    "from torch.autograd import Variable\n",
    "\n",
    "from sklearn.metrics import confusion_matrix, precision_recall_fscore_support\n",
    "from dataloaders.dataset import VideoDataset\n",
    "from network import R3D_model, C3D_model, R2Plus1D_model, Pac3D_model\n",
    "from sklearn.metrics import confusion_matrix\n",
    "import seaborn as sns\n",
    "import pandas as pd\n",
    "from sklearn.metrics import precision_score, recall_score\n",
    "import matplotlib.pyplot as plt\n",
    "import numpy as np\n",
    "import random   "
   ]
  },
  {
   "cell_type": "code",
   "execution_count": 2,
   "metadata": {},
   "outputs": [],
   "source": [
    "def set_seed(seed):\n",
    "    random.seed(seed)\n",
    "    np.random.seed(seed)\n",
    "    torch.manual_seed(seed)\n",
    "    torch.cuda.manual_seed(seed)\n",
    "    torch.cuda.manual_seed_all(seed) \n",
    "    os.environ['PYTHONHASHSEED'] = str(seed)"
   ]
  },
  {
   "cell_type": "code",
   "execution_count": 3,
   "metadata": {},
   "outputs": [
    {
     "name": "stdout",
     "output_type": "stream",
     "text": [
      "Device being used: cuda:0\n"
     ]
    }
   ],
   "source": [
    "############################\n",
    "####    Parameters      ####\n",
    "############################\n",
    "nEpochs = 10  # Number of epochs for training\n",
    "resume_epoch = 0  # Default is 0, change if want to resume\n",
    "useTest = True # See evolution of the test set when training\n",
    "nTestInterval = 10 # Run on test set every nTestInterval epochs\n",
    "save_epoch = 10 # Store a model every save_epoch\n",
    "lr = 1e-3 # Learning rate\n",
    "clip_len = 256 # frames of each video\n",
    "\n",
    "###################################\n",
    "####    Options of Dataset     ####\n",
    "###################################\n",
    "dataset = 'CIC-IDS2018-all-v1' \n",
    "modelName = 'Pac3D' \n",
    "saveName = modelName + '-' + dataset\n",
    "\n",
    "if dataset == 'CIC-IDS2018-all':\n",
    "    num_classes = 14\n",
    "    set_seed(13)\n",
    "elif dataset == 'CIC-IDS2018-all-v1':\n",
    "    num_classes = 14\n",
    "    set_seed(4)\n",
    "elif dataset == 'CIC-IDS2018-v1-DoS':\n",
    "    num_classes = 4\n",
    "    set_seed(46)\n",
    "elif dataset == 'CIC-IDS2018-v1-DDoS':\n",
    "    num_classes = 3\n",
    "    set_seed(19)\n",
    "elif dataset == 'CIC-IDS2018-v1-Auth':\n",
    "    num_classes = 2\n",
    "    set_seed(43)\n",
    "elif dataset == 'CIC-IDS2018-v1-Web':\n",
    "    num_classes = 3\n",
    "    set_seed(33)\n",
    "elif dataset == 'CIC-IDS2018-v1-Other':\n",
    "    num_classes = 2\n",
    "    set_seed(23)\n",
    "elif dataset == 'CIC-IDS2018-v2-DoS':\n",
    "    num_classes = 4\n",
    "    set_seed(50)\n",
    "elif dataset == 'CIC-IDS2018-v3-DoS':\n",
    "    num_classes = 4\n",
    "    set_seed(8)\n",
    "elif dataset == 'CIC-IDS2018-v3-DDoS':\n",
    "    num_classes = 3\n",
    "    set_seed(48)\n",
    "elif dataset == 'CIC-IDS2018-v3-Auth':\n",
    "    num_classes = 2\n",
    "    set_seed(50)\n",
    "elif dataset == 'CIC-IDS2018-v3-Web':\n",
    "    num_classes = 3\n",
    "    set_seed(38)\n",
    "elif dataset == 'CIC-IDS2018-v3-Other':\n",
    "    num_classes = 2\n",
    "    set_seed(20)\n",
    "else:\n",
    "    print('No Dataset')\n",
    "    raise NotImplementedError\n",
    "\n",
    "device = torch.device(\"cuda:0\" if torch.cuda.is_available() else \"cpu\")\n",
    "print(\"Device being used:\", device)"
   ]
  },
  {
   "cell_type": "code",
   "execution_count": 4,
   "metadata": {},
   "outputs": [],
   "source": [
    "\n",
    "##########################################\n",
    "####   Set Model result saving dir    ####\n",
    "##########################################\n",
    "save_dir_root = os.path.join(\"/SSD/p76111262/\")\n",
    "resume_epoch = 0\n",
    "\n",
    "if resume_epoch != 0:\n",
    "    runs = sorted(glob.glob(os.path.join(save_dir_root, 'run', 'run_*')))\n",
    "    run_id = int(runs[-1].split('_')[-1]) if runs else 0\n",
    "else:\n",
    "    runs = sorted(glob.glob(os.path.join(save_dir_root, 'run', 'run_*')))\n",
    "    if len(runs) == 0:\n",
    "        run_id = 0\n",
    "    else:\n",
    "        run_id = max([int(i.split('_')[-1]) for i in runs]) + 1\n",
    "save_dir = os.path.join(save_dir_root, 'run', 'run_' + str(run_id))\n"
   ]
  },
  {
   "cell_type": "code",
   "execution_count": 5,
   "metadata": {},
   "outputs": [],
   "source": [
    "######################################\n",
    "####   Load model & parameters    ####\n",
    "######################################\n",
    "if modelName == 'C3D':\n",
    "    model = C3D_model.C3D(num_classes=num_classes, pretrained=False)\n",
    "    train_params = [{'params': C3D_model.get_1x_lr_params(model), 'lr': lr},\n",
    "                    {'params': C3D_model.get_10x_lr_params(model), 'lr': lr * 10}]\n",
    "elif modelName == 'R2Plus1D':\n",
    "    model = R2Plus1D_model.R2Plus1DClassifier(num_classes=num_classes, layer_sizes=(2, 2, 2, 2))\n",
    "    train_params = [{'params': R2Plus1D_model.get_1x_lr_params(model), 'lr': lr},\n",
    "                    {'params': R2Plus1D_model.get_10x_lr_params(model), 'lr': lr * 10}]\n",
    "elif modelName == 'R3D':\n",
    "    model = R3D_model.R3DClassifier(num_classes=num_classes, layer_sizes=(2, 2, 2, 2))\n",
    "    train_params = model.parameters()\n",
    "elif modelName == 'Pac3D':\n",
    "    model = Pac3D_model.Pac3DClassifier(num_classes=num_classes, layer_sizes=(2, 2, 2, 2))\n",
    "    train_params = model.parameters()\n",
    "else:\n",
    "    print('We only implemented C3D and R2Plus1D models.')\n",
    "    raise NotImplementedError\n"
   ]
  },
  {
   "cell_type": "code",
   "execution_count": 6,
   "metadata": {},
   "outputs": [
    {
     "name": "stdout",
     "output_type": "stream",
     "text": [
      "Training Pac3D from scratch...\n",
      "Total params: 5.66M\n"
     ]
    },
    {
     "name": "stdout",
     "output_type": "stream",
     "text": [
      "log dir: /SSD/p76111262/run/run_52/models/Jun20_11-11-43_uscc-ai-server\n"
     ]
    }
   ],
   "source": [
    "######################################\n",
    "####   Load model & parameters    ####\n",
    "######################################\n",
    "criterion = nn.CrossEntropyLoss()  \n",
    "optimizer = optim.Adam(train_params, lr=lr, weight_decay=5e-4)\n",
    "scheduler = optim.lr_scheduler.StepLR(optimizer, step_size=5, gamma=0.1)  # the scheduler divides the lr by 10 every 5 epochs\n",
    "\n",
    "if resume_epoch == 0:\n",
    "    print(\"Training {} from scratch...\".format(modelName))\n",
    "else:\n",
    "    checkpoint = torch.load(os.path.join(save_dir, 'models', saveName + '_epoch-' + str(resume_epoch - 1) + '.pth.tar'),\n",
    "                    map_location=lambda storage, loc: storage)   # Load all tensors onto the CPU\n",
    "    print(\"Initializing weights from: {}...\".format(\n",
    "        os.path.join(save_dir, 'models', saveName + '_epoch-' + str(resume_epoch - 1) + '.pth.tar')))\n",
    "    model.load_state_dict(checkpoint['state_dict'])\n",
    "    optimizer.load_state_dict(checkpoint['opt_dict'])\n",
    "\n",
    "print('Total params: %.2fM' % (sum(p.numel() for p in model.parameters()) / 1000000.0))\n",
    "\n",
    "model.to(device)\n",
    "criterion.to(device)\n",
    "\n",
    "log_dir = os.path.join(save_dir, 'models', datetime.now().strftime('%b%d_%H-%M-%S') + '_' + socket.gethostname())\n",
    "print(\"log dir:\", log_dir)\n",
    "writer = SummaryWriter(log_dir=log_dir)\n"
   ]
  },
  {
   "cell_type": "code",
   "execution_count": 7,
   "metadata": {},
   "outputs": [
    {
     "name": "stdout",
     "output_type": "stream",
     "text": [
      "Training model on CIC-IDS2018-all-v1 dataset...\n"
     ]
    }
   ],
   "source": [
    "\n",
    "########################\n",
    "####   Load Data    ####\n",
    "########################\n",
    "print('Training model on {} dataset...'.format(dataset))\n",
    "train_dataloader = DataLoader(VideoDataset(dataset=dataset, split='train', clip_len=clip_len), batch_size=16, shuffle=True, num_workers=0)\n",
    "test_dataloader  = DataLoader(VideoDataset(dataset=dataset, split='test', clip_len=clip_len), batch_size=16, num_workers=0)\n",
    "\n",
    "train_size = len(train_dataloader.dataset)\n",
    "test_size = len(test_dataloader.dataset)\n"
   ]
  },
  {
   "cell_type": "code",
   "execution_count": 8,
   "metadata": {},
   "outputs": [
    {
     "name": "stderr",
     "output_type": "stream",
     "text": [
      "100%|██████████| 133/133 [02:41<00:00,  1.22s/it]\n"
     ]
    },
    {
     "name": "stdout",
     "output_type": "stream",
     "text": [
      "[train] Epoch: 1/10 Loss: 1.897527335947538 Acc: 0.46408317580340264\n",
      "Execution time: 161.83208855986595\n",
      "\n"
     ]
    },
    {
     "name": "stderr",
     "output_type": "stream",
     "text": [
      "100%|██████████| 133/133 [02:42<00:00,  1.22s/it]\n"
     ]
    },
    {
     "name": "stdout",
     "output_type": "stream",
     "text": [
      "[train] Epoch: 2/10 Loss: 1.7309000262240606 Acc: 0.4905482041587902\n",
      "Execution time: 162.23902490595356\n",
      "\n"
     ]
    },
    {
     "name": "stderr",
     "output_type": "stream",
     "text": [
      "100%|██████████| 133/133 [02:42<00:00,  1.22s/it]\n"
     ]
    },
    {
     "name": "stdout",
     "output_type": "stream",
     "text": [
      "[train] Epoch: 3/10 Loss: 1.7223657538624928 Acc: 0.4886578449905482\n",
      "Execution time: 162.09898506687023\n",
      "\n"
     ]
    },
    {
     "name": "stderr",
     "output_type": "stream",
     "text": [
      "100%|██████████| 133/133 [02:41<00:00,  1.21s/it]\n"
     ]
    },
    {
     "name": "stdout",
     "output_type": "stream",
     "text": [
      "[train] Epoch: 4/10 Loss: 1.7335732677257805 Acc: 0.4905482041587902\n",
      "Execution time: 161.4375555620063\n",
      "\n"
     ]
    },
    {
     "name": "stderr",
     "output_type": "stream",
     "text": [
      "100%|██████████| 133/133 [02:41<00:00,  1.21s/it]\n"
     ]
    },
    {
     "name": "stdout",
     "output_type": "stream",
     "text": [
      "[train] Epoch: 5/10 Loss: 1.7307270298833433 Acc: 0.4905482041587902\n",
      "Execution time: 161.05039467290044\n",
      "\n"
     ]
    },
    {
     "name": "stderr",
     "output_type": "stream",
     "text": [
      "100%|██████████| 133/133 [02:41<00:00,  1.22s/it]\n"
     ]
    },
    {
     "name": "stdout",
     "output_type": "stream",
     "text": [
      "[train] Epoch: 6/10 Loss: 1.7311125761619812 Acc: 0.4872400756143667\n",
      "Execution time: 161.66535543114878\n",
      "\n"
     ]
    },
    {
     "name": "stderr",
     "output_type": "stream",
     "text": [
      "100%|██████████| 133/133 [02:41<00:00,  1.22s/it]\n"
     ]
    },
    {
     "name": "stdout",
     "output_type": "stream",
     "text": [
      "[train] Epoch: 7/10 Loss: 1.7266207480475673 Acc: 0.4910207939508507\n",
      "Execution time: 161.9056667489931\n",
      "\n"
     ]
    },
    {
     "name": "stderr",
     "output_type": "stream",
     "text": [
      "100%|██████████| 133/133 [02:41<00:00,  1.22s/it]\n"
     ]
    },
    {
     "name": "stdout",
     "output_type": "stream",
     "text": [
      "[train] Epoch: 8/10 Loss: 1.7390439271476184 Acc: 0.4862948960302458\n",
      "Execution time: 161.9379576020874\n",
      "\n"
     ]
    },
    {
     "name": "stderr",
     "output_type": "stream",
     "text": [
      "100%|██████████| 133/133 [02:40<00:00,  1.21s/it]\n"
     ]
    },
    {
     "name": "stdout",
     "output_type": "stream",
     "text": [
      "[train] Epoch: 9/10 Loss: 1.7332806659330717 Acc: 0.4862948960302458\n",
      "Execution time: 160.82050321414135\n",
      "\n"
     ]
    },
    {
     "name": "stderr",
     "output_type": "stream",
     "text": [
      "100%|██████████| 133/133 [02:41<00:00,  1.21s/it]\n"
     ]
    },
    {
     "name": "stdout",
     "output_type": "stream",
     "text": [
      "[train] Epoch: 10/10 Loss: 1.7323395500561691 Acc: 0.4858223062381853\n",
      "Execution time: 161.52657934790477\n",
      "\n",
      "Save model at /SSD/p76111262/run/run_52/models/Pac3D-CIC-IDS2018-all-v1_epoch-9.pth.tar\n",
      "\n"
     ]
    },
    {
     "name": "stderr",
     "output_type": "stream",
     "text": [
      "100%|██████████| 34/34 [00:31<00:00,  1.09it/s]"
     ]
    },
    {
     "name": "stdout",
     "output_type": "stream",
     "text": [
      "[test] Epoch: 10/10 Loss: 1.683324019338676 Acc: 0.512241054613936\n",
      "Execution time: 31.089329421985894\n",
      "\n"
     ]
    },
    {
     "name": "stderr",
     "output_type": "stream",
     "text": [
      "\n",
      "/home/p76111262/anaconda3/lib/python3.9/site-packages/sklearn/metrics/_classification.py:1248: UndefinedMetricWarning: Precision is ill-defined and being set to 0.0 in labels with no predicted samples. Use `zero_division` parameter to control this behavior.\n",
      "  _warn_prf(average, modifier, msg_start, len(result))\n"
     ]
    }
   ],
   "source": [
    "\n",
    "train_losses = []\n",
    "train_accs = []\n",
    "val_losses = []\n",
    "val_accs = []\n",
    "y_pred = []\n",
    "y_true = []\n",
    "\n",
    "for epoch in range(resume_epoch, nEpochs):\n",
    "\n",
    "    start_time = timeit.default_timer()\n",
    "\n",
    "    # reset the running loss and corrects\n",
    "    running_loss = 0.0\n",
    "    running_corrects = 0.0\n",
    "    \n",
    "    model.train()\n",
    "\n",
    "    for inputs, labels in tqdm(train_dataloader):\n",
    "        # move inputs and labels to the device the training is taking place on\n",
    "        labels = labels.type(torch.LongTensor)\n",
    "        inputs = Variable(inputs, requires_grad=True).to(device)\n",
    "        labels = Variable(labels).to(device)\n",
    "        optimizer.zero_grad()\n",
    "        outputs = model(inputs)\n",
    "\n",
    "        probs = nn.Softmax(dim=1)(outputs)\n",
    "        preds = torch.max(probs, 1)[1]\n",
    "        loss = criterion(outputs, labels)\n",
    "        loss.backward()\n",
    "        optimizer.step()\n",
    "        scheduler.step()\n",
    "\n",
    "        running_loss += loss.item() * inputs.size(0)\n",
    "        running_corrects += torch.sum(preds == labels.data)\n",
    "\n",
    "    epoch_loss = running_loss / train_size\n",
    "    epoch_acc = running_corrects.double() / train_size\n",
    "\n",
    "    writer.add_scalar('data/train_loss_epoch', epoch_loss, epoch)\n",
    "    writer.add_scalar('data/train_acc_epoch', epoch_acc, epoch)\n",
    "    train_losses.append(epoch_loss)\n",
    "    train_accs.append(epoch_acc)\n",
    "        \n",
    "    print(\"[train] Epoch: {}/{} Loss: {} Acc: {}\".format(epoch+1, nEpochs, epoch_loss, epoch_acc))\n",
    "    stop_time = timeit.default_timer()\n",
    "    print(\"Execution time: \" + str(stop_time - start_time) + \"\\n\")\n",
    "    if epoch % save_epoch == (save_epoch - 1):\n",
    "        torch.save({\n",
    "            'epoch': epoch + 1,\n",
    "            'state_dict': model.state_dict(),\n",
    "            'opt_dict': optimizer.state_dict(),\n",
    "        }, os.path.join(save_dir, 'models', saveName + '_epoch-' + str(epoch) + '.pth.tar'))\n",
    "        print(\"Save model at {}\\n\".format(os.path.join(save_dir, 'models', saveName + '_epoch-' + str(epoch) + '.pth.tar')))\n",
    "\n",
    "    if useTest and epoch % nTestInterval == (nTestInterval - 1):\n",
    "        model.eval()\n",
    "        start_time = timeit.default_timer()\n",
    "\n",
    "        running_loss = 0.0\n",
    "        running_corrects = 0.0\n",
    "\n",
    "        for inputs, labels in tqdm(test_dataloader):\n",
    "            inputs = inputs.to(device)\n",
    "            labels = labels.to(device)\n",
    "\n",
    "            with torch.no_grad():\n",
    "                outputs = model(inputs)\n",
    "            probs = nn.Softmax(dim=1)(outputs)\n",
    "            preds = torch.max(probs, 1)[1]\n",
    "            loss = criterion(outputs, labels)\n",
    "            \n",
    "            running_loss += loss.item() * inputs.size(0)\n",
    "            running_corrects += torch.sum(preds == labels.data)\n",
    "\n",
    "            y_pred.extend(preds.view(-1).detach().cpu().numpy())\n",
    "            y_true.extend(labels.view(-1).detach().cpu().numpy())\n",
    "\n",
    "        epoch_loss = running_loss / test_size\n",
    "        epoch_acc = running_corrects.double() / test_size\n",
    "    \n",
    "        writer.add_scalar('data/test_loss_epoch', epoch_loss, epoch)\n",
    "        writer.add_scalar('data/test_acc_epoch', epoch_acc, epoch)\n",
    "\n",
    "        precision = precision_score(y_true, y_pred, average=None)\n",
    "        recall = recall_score(y_true, y_pred, average=None)\n",
    "\n",
    "\n",
    "        print(\"[test] Epoch: {}/{} Loss: {} Acc: {}\".format(epoch+1, nEpochs, epoch_loss, epoch_acc))\n",
    "        stop_time = timeit.default_timer()\n",
    "        print(\"Execution time: \" + str(stop_time - start_time) + \"\\n\")\n",
    "        \n",
    "writer.close()\n",
    "torch.save(model.state_dict(), \"/SSD/p76111262/\"+modelName+\"_run\"+str(run_id)+\".pth\")\n"
   ]
  },
  {
   "cell_type": "code",
   "execution_count": 9,
   "metadata": {},
   "outputs": [
    {
     "data": {
      "image/png": "[encoded data removed]",
      "text/plain": [
       "<Figure size 432x288 with 1 Axes>"
      ]
     },
     "metadata": {
      "needs_background": "light"
     },
     "output_type": "display_data"
    }
   ],
   "source": [
    "import matplotlib.pyplot as plt\n",
    "x = list(range(nEpochs))\n",
    "plt.plot(x, train_losses)\n",
    "plt.title('Training Loss')\n",
    "plt.xlabel('Epoch')\n",
    "plt.ylabel('Loss')\n",
    "plt.legend(['Training'])\n",
    "\n",
    "plt.savefig(save_dir + '/training_loss.png')\n",
    "plt.show()"
   ]
  },
  {
   "cell_type": "code",
   "execution_count": 10,
   "metadata": {},
   "outputs": [
    {
     "data": {
      "image/png": "[encoded data removed]",
      "text/plain": [
       "<Figure size 432x288 with 1 Axes>"
      ]
     },
     "metadata": {
      "needs_background": "light"
     },
     "output_type": "display_data"
    }
   ],
   "source": [
    "x = list(range(nEpochs))\n",
    "np_train_accs = []\n",
    "for i in range(len(train_accs)):\n",
    "    np_train_accs.append(train_accs[i].cpu().numpy())\n",
    "\n",
    "plt.plot(x, np_train_accs)\n",
    "plt.title('Train Accuracy')\n",
    "plt.xlabel('Epoch')\n",
    "plt.ylabel('Accuracy')\n",
    "plt.legend(['Training'])\n",
    "\n",
    "plt.savefig(save_dir + '/train_acc.png')\n",
    "plt.show()"
   ]
  },
  {
   "cell_type": "code",
   "execution_count": 11,
   "metadata": {},
   "outputs": [],
   "source": [
    "def check_accuracy(loader, model):\n",
    "    num_correct = 0\n",
    "    num_samples = 0\n",
    "    y_pred = []   #保存預測label\n",
    "    y_true = []   #保存實際label\n",
    "    model.eval()\n",
    "    with torch.no_grad():\n",
    "        for inputs, labels in tqdm(loader):\n",
    "            # move inputs and labels to the device the training is taking place on\n",
    "            labels = labels.type(torch.LongTensor)\n",
    "            inputs = Variable(inputs, requires_grad=True).to(device)\n",
    "            labels = Variable(labels).to(device)\n",
    "            outputs = model(inputs)\n",
    "            probs = nn.Softmax(dim=1)(outputs)\n",
    "            preds = torch.max(probs, 1)[1]\n",
    "            num_samples += 1\n",
    "            num_correct += torch.sum(preds == labels.data)\n",
    "            y_pred.extend(preds.view(-1).detach().cpu().numpy())\n",
    "            y_true.extend(labels.view(-1).detach().cpu().numpy())\n",
    "        acc = num_correct.double() / test_size\n",
    "        print(\"[test] Acc: {}\".format(acc))\n",
    "    return y_pred, y_true\n",
    "        "
   ]
  },
  {
   "cell_type": "code",
   "execution_count": 12,
   "metadata": {},
   "outputs": [
    {
     "name": "stdout",
     "output_type": "stream",
     "text": [
      "Initializing weights from: /SSD/p76111262/run/run_52/models/Pac3D-CIC-IDS2018-all-v1_epoch-9.pth.tar...\n"
     ]
    },
    {
     "name": "stderr",
     "output_type": "stream",
     "text": [
      "100%|██████████| 34/34 [00:23<00:00,  1.44it/s]"
     ]
    },
    {
     "name": "stdout",
     "output_type": "stream",
     "text": [
      "[test] Acc: 0.512241054613936\n",
      "Precision:  0.4609999450016974\n",
      "Recall:  0.49265873015873013\n",
      "F1:  0.4218227410967807\n"
     ]
    },
    {
     "name": "stderr",
     "output_type": "stream",
     "text": [
      "\n",
      "/home/p76111262/anaconda3/lib/python3.9/site-packages/sklearn/metrics/_classification.py:1248: UndefinedMetricWarning: Precision and F-score are ill-defined and being set to 0.0 in labels with no predicted samples. Use `zero_division` parameter to control this behavior.\n",
      "  _warn_prf(average, modifier, msg_start, len(result))\n"
     ]
    }
   ],
   "source": [
    "checkpoint = torch.load(os.path.join(save_dir, 'models', saveName + '_epoch-' + str(nEpochs - 1) + '.pth.tar'), \n",
    "                        map_location=lambda storage, loc: storage)   \n",
    "print(\"Initializing weights from: {}...\".format(os.path.join(save_dir, 'models', saveName + '_epoch-' + str(nEpochs - 1) + '.pth.tar')))\n",
    "model.load_state_dict(checkpoint['state_dict'])\n",
    "optimizer.load_state_dict(checkpoint['opt_dict'])\n",
    "y_pred, y_true = check_accuracy(test_dataloader, model)\n",
    "precision, recall, f1, _ = precision_recall_fscore_support(y_true, y_pred, average='macro')\n",
    "print(\"Precision: \", precision)\n",
    "print(\"Recall: \", recall)\n",
    "print(\"F1: \", f1)"
   ]
  },
  {
   "cell_type": "code",
   "execution_count": 15,
   "metadata": {},
   "outputs": [
    {
     "name": "stderr",
     "output_type": "stream",
     "text": [
      "/tmp/ipykernel_3558224/2492310596.py:4: RuntimeWarning: invalid value encountered in true_divide\n",
      "  per_cls_acc = cf_matrix.diagonal()/cf_matrix.sum(axis=0)\n"
     ]
    },
    {
     "name": "stdout",
     "output_type": "stream",
     "text": [
      "['Botnet', 'BruteForce-FTP', 'BruteForce-SSH', 'BruteForce-Web', 'BruteForce-XSS', 'DDoS_HOIC', 'DDoS_LOIC-HTTP', 'DDoS_LOIC-UDP', 'DoS_GoldenEye', 'DoS_Hulk', 'DoS_SlowHTTPTest', 'DoS_Slowloris', 'Infiltration', 'SQL_Injection']\n",
      "[       nan        nan 0.18957346 0.78431373 1.         0.64285714\n",
      " 0.7        0.90909091 1.         0.75757576 0.47058824        nan\n",
      "        nan        nan]\n"
     ]
    },
    {
     "data": {
      "image/png": "[encoded data removed]",
      "text/plain": [
       "<Figure size 648x432 with 2 Axes>"
      ]
     },
     "metadata": {
      "needs_background": "light"
     },
     "output_type": "display_data"
    }
   ],
   "source": [
    "\n",
    "# 製作混淆矩陣\n",
    "cf_matrix = confusion_matrix(y_true, y_pred)                               \n",
    "# 計算每個class的accuracy\n",
    "per_cls_acc = cf_matrix.diagonal()/cf_matrix.sum(axis=0)                   \n",
    "\n",
    "class_names = []\n",
    "label_txt = os.path.join('dataloaders', dataset + \".txt\")  # 這裡要改成你的label.txt路徑\n",
    "with open(label_txt, 'r') as f:\n",
    "    for line in f:\n",
    "        class_names.append(line.strip())\n",
    "        \n",
    "print(class_names)\n",
    "print(per_cls_acc)                                            \n",
    "\n",
    "# 開始繪製混淆矩陣並存檔\n",
    "df_cm = pd.DataFrame(cf_matrix, class_names, class_names)    \n",
    "plt.figure(figsize = (9,6))\n",
    "sns.heatmap(df_cm, annot=True, fmt=\"d\", cmap='BuGn')\n",
    "plt.xlabel(\"prediction\")\n",
    "plt.ylabel(\"label (ground truth)\")\n",
    "plt.savefig(save_dir + '/confusion_matrix.png')"
   ]
  },
  {
   "cell_type": "code",
   "execution_count": 14,
   "metadata": {},
   "outputs": [
    {
     "name": "stdout",
     "output_type": "stream",
     "text": [
      "[2, 2, 2, 2, 2, 2, 2, 2, 2, 2, 2, 2, 2, 2, 2, 2, 2, 2, 2, 2, 2, 2, 2, 2, 2, 2, 2, 2, 2, 2, 3, 2, 2, 2, 2, 2, 2, 2, 2, 2, 10, 10, 10, 10, 10, 10, 10, 10, 10, 10, 10, 10, 10, 10, 10, 10, 10, 10, 10, 10, 10, 10, 10, 10, 10, 10, 10, 10, 10, 10, 10, 10, 10, 10, 10, 10, 10, 10, 10, 10, 2, 2, 2, 2, 2, 2, 2, 2, 2, 2, 2, 2, 2, 2, 2, 2, 2, 2, 2, 2, 2, 2, 2, 2, 2, 2, 2, 2, 2, 2, 2, 2, 2, 2, 2, 2, 2, 2, 2, 2, 3, 3, 3, 3, 3, 3, 3, 3, 3, 3, 3, 3, 3, 3, 3, 3, 3, 3, 3, 3, 3, 3, 3, 3, 3, 3, 3, 3, 3, 3, 3, 3, 3, 3, 3, 3, 3, 3, 3, 3, 4, 4, 4, 4, 4, 4, 4, 4, 3, 4, 4, 4, 4, 4, 4, 4, 4, 4, 4, 4, 4, 4, 4, 4, 4, 4, 4, 4, 4, 4, 4, 4, 4, 4, 4, 4, 6, 5, 2, 5, 2, 2, 2, 6, 6, 6, 2, 2, 6, 2, 5, 5, 2, 6, 5, 2, 5, 6, 2, 6, 6, 2, 2, 2, 6, 9, 5, 2, 6, 2, 9, 2, 6, 6, 5, 5, 6, 6, 6, 6, 6, 6, 7, 6, 6, 6, 6, 6, 6, 6, 6, 6, 6, 6, 6, 6, 6, 7, 6, 6, 6, 7, 6, 6, 6, 6, 5, 7, 6, 6, 6, 6, 6, 6, 6, 6, 7, 7, 7, 7, 7, 7, 7, 7, 7, 7, 7, 7, 7, 7, 7, 7, 7, 7, 7, 7, 7, 7, 7, 7, 7, 7, 7, 7, 7, 7, 7, 7, 7, 7, 7, 7, 7, 7, 7, 7, 8, 10, 8, 2, 2, 2, 2, 8, 2, 8, 8, 10, 3, 9, 2, 10, 8, 2, 6, 3, 2, 2, 3, 2, 2, 2, 2, 3, 6, 2, 3, 8, 10, 2, 9, 2, 2, 8, 2, 2, 9, 2, 9, 9, 9, 9, 2, 2, 9, 2, 9, 9, 9, 5, 9, 9, 9, 2, 2, 2, 9, 9, 9, 9, 2, 9, 9, 5, 9, 9, 9, 2, 10, 9, 2, 9, 2, 2, 9, 9, 10, 10, 10, 10, 10, 10, 10, 10, 10, 10, 10, 10, 10, 10, 10, 10, 10, 10, 10, 10, 10, 10, 10, 10, 10, 10, 10, 10, 10, 10, 10, 10, 10, 10, 10, 10, 10, 10, 10, 10, 2, 2, 2, 2, 2, 2, 2, 2, 2, 9, 2, 2, 2, 2, 2, 2, 2, 2, 2, 9, 2, 2, 2, 2, 2, 2, 2, 2, 2, 2, 2, 2, 2, 2, 2, 2, 2, 2, 2, 2, 2, 2, 2, 2, 2, 2, 2, 2, 2, 2, 2, 2, 2, 2, 2, 2, 2, 3, 5, 2, 2, 2, 2, 2, 2, 2, 2, 2, 2, 2, 2, 2, 2, 2, 2, 2, 2, 2, 2, 2, 9, 2, 2, 9, 2, 2, 2, 3, 2, 5, 2, 2, 3, 2, 3]\n"
     ]
    }
   ],
   "source": [
    "print(y_pred)"
   ]
  },
  {
   "cell_type": "code",
   "execution_count": null,
   "metadata": {},
   "outputs": [],
   "source": []
  }
 ],
 "metadata": {
  "kernelspec": {
   "display_name": "C3D",
   "language": "python",
   "name": "python3"
  },
  "language_info": {
   "codemirror_mode": {
    "name": "ipython",
    "version": 3
   },
   "file_extension": ".py",
   "mimetype": "text/x-python",
   "name": "python",
   "nbconvert_exporter": "python",
   "pygments_lexer": "ipython3",
   "version": "3.9.7"
  },
  "orig_nbformat": 4
 },
 "nbformat": 4,
 "nbformat_minor": 2
}
