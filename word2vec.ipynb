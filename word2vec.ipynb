{
 "cells": [
  {
   "cell_type": "code",
   "execution_count": 1,
   "metadata": {},
   "outputs": [
    {
     "name": "stderr",
     "output_type": "stream",
     "text": [
      "[nltk_data] Downloading package stopwords to\n",
      "[nltk_data]     /home/p76111262/nltk_data...\n",
      "[nltk_data]   Unzipping corpora/stopwords.zip.\n",
      "[nltk_data] Downloading package punkt to /home/p76111262/nltk_data...\n",
      "[nltk_data]   Unzipping tokenizers/punkt.zip.\n"
     ]
    },
    {
     "name": "stdout",
     "output_type": "stream",
     "text": [
      "Word2Vec model trained and saved at: ./cybersecurity_word2vec.model\n"
     ]
    }
   ],
   "source": [
    "from gensim.models import Word2Vec\n",
    "from gensim.models.word2vec import LineSentence\n",
    "import nltk\n",
    "from nltk.corpus import stopwords\n",
    "from nltk.tokenize import word_tokenize\n",
    "from nltk.tag import pos_tag\n",
    "from nltk.corpus import wordnet as wn\n",
    "import string\n",
    "\n",
    "nltk.download('stopwords')\n",
    "nltk.download('punkt')\n",
    "\n",
    "def remove_stopwords_and_punctuation(words):\n",
    "    stop_words = set(stopwords.words('english'))\n",
    "    punct_table = str.maketrans('', '', string.punctuation)\n",
    "    filtered_words = [word.lower().translate(punct_table) for word in words if word.lower().translate(punct_table) not in stop_words and word.lower().translate(punct_table) != '']\n",
    "    return filtered_words\n",
    "\n",
    "def preprocess_sentences(input_file, output_file):\n",
    "    updated_sentences = []\n",
    "    with open(input_file, 'r', encoding='utf-8') as file:\n",
    "        for line in file:\n",
    "            updated_sentences.append(line.strip())\n",
    "\n",
    "    tokenized_sentences = []\n",
    "    for sentence in updated_sentences:\n",
    "        words = word_tokenize(sentence)\n",
    "        filtered_words = remove_stopwords_and_punctuation(words)  # 使用更新后的函数\n",
    "        tokenized_sentences.append(filtered_words)\n",
    "\n",
    "    with open(output_file, 'w', encoding='utf-8') as file:\n",
    "        for sentence in tokenized_sentences:\n",
    "            file.write(' '.join(sentence) + '\\n')\n",
    "\n",
    "def train_word2vec_model(sentences_file, model_save_path):\n",
    "    # Load the updated sentences as a LineSentence object\n",
    "    updated_sentences = LineSentence(sentences_file)\n",
    "\n",
    "    # Training the Word2Vec model on the updated sentences\n",
    "    updated_model = Word2Vec(sentences=updated_sentences, vector_size=100, window=5, min_count=3, workers=4)\n",
    "\n",
    "    # Save the updated model\n",
    "    updated_model.save(model_save_path)\n",
    "\n",
    "    return model_save_path\n",
    "\n",
    "# Example usage:\n",
    "input_file = \"./cybersecurity_sentences.txt\"\n",
    "output_file = \"./preprocessed_cybersecurity_sentences.txt\"\n",
    "model_save_path = \"./cybersecurity_word2vec.model\"\n",
    "\n",
    "# Preprocess sentences and save to output file\n",
    "preprocess_sentences(input_file, output_file)\n",
    "\n",
    "# Train Word2Vec model and save\n",
    "trained_model_path = train_word2vec_model(output_file, model_save_path)\n",
    "\n",
    "print(\"Word2Vec model trained and saved at:\", trained_model_path)\n"
   ]
  },
  {
   "cell_type": "code",
   "execution_count": 4,
   "metadata": {},
   "outputs": [],
   "source": [
    "from gensim.models import Word2Vec\n",
    "\n",
    "# 指定模型的加载路径\n",
    "model_path = \"./cybersecurity_word2vec.model\"\n",
    "model = Word2Vec.load(model_path)"
   ]
  },
  {
   "cell_type": "code",
   "execution_count": 7,
   "metadata": {},
   "outputs": [
    {
     "name": "stdout",
     "output_type": "stream",
     "text": [
      "ddoshoic similar: [('http', 0.3622981309890747), ('using', 0.3541862368583679), ('force', 0.3404111862182617), ('attack', 0.3297610282897949), ('tool', 0.29176801443099976), ('service', 0.27642467617988586), ('malware', 0.27457085251808167), ('examples', 0.27328285574913025), ('vast', 0.2610372304916382), ('internet', 0.2584122121334076)]\n",
      "ddosloichttp similar: [('resources', 0.30744606256484985), ('sending', 0.30023953318595886), ('attacks', 0.2975677251815796), ('discovered', 0.2953900992870331), ('security', 0.28720736503601074), ('concurrent', 0.2740911841392517), ('doshulk', 0.27153289318084717), ('internet', 0.2570054233074188), ('specifically', 0.2528572082519531), ('often', 0.24815917015075684)]\n",
      "ddosloicudp similar: [('websites', 0.2498084306716919), ('sqli', 0.232588529586792), ('volume', 0.22023993730545044), ('different', 0.21911396086215973), ('succession', 0.19887429475784302), ('measures', 0.19685114920139313), ('overwhelm', 0.19487984478473663), ('encrypted', 0.18597197532653809), ('persistent', 0.16922326385974884), ('commonly', 0.16638097167015076)]\n",
      "dosgoldeneye similar: [('udp', 0.37042027711868286), ('slow', 0.29549896717071533), ('based', 0.26812583208084106), ('allows', 0.2669617831707001), ('applications', 0.26093533635139465), ('slowly', 0.23927107453346252), ('rendering', 0.23536653816699982), ('form', 0.222242072224617), ('types', 0.21966557204723358), ('long', 0.21543414890766144)]\n",
      "doshulk similar: [('user', 0.35105976462364197), ('bypass', 0.33128419518470764), ('measures', 0.307982474565506), ('exhaust', 0.30150270462036133), ('sqli', 0.2981242537498474), ('openssl', 0.28851935267448425), ('servers', 0.2875654399394989), ('ftp', 0.28750860691070557), ('malicious', 0.2852635085582733), ('attacks', 0.27999305725097656)]\n",
      "dosslowhttptest similar: [('loic', 0.2934194803237915), ('breaches', 0.20620189607143402), ('often', 0.20285643637180328), ('various', 0.19109034538269043), ('make', 0.1830006092786789), ('brute', 0.1815958321094513), ('processing', 0.18143509328365326), ('measures', 0.17753387987613678), ('keeping', 0.17060402035713196), ('uses', 0.164059579372406)]\n",
      "dosslowloris similar: [('correct', 0.38642868399620056), ('attacks', 0.3604124188423157), ('sensitive', 0.3596203923225403), ('applications', 0.3316495716571808), ('web', 0.3275437653064728), ('scripts', 0.3183611035346985), ('concurrent', 0.3137418031692505), ('users', 0.3127780854701996), ('devices', 0.29995203018188477), ('security', 0.2837492823600769)]\n",
      "bruteforceweb similar: [('unavailable', 0.40065011382102966), ('applications', 0.28541824221611023), ('web', 0.27137765288352966), ('amplifying', 0.26693642139434814), ('traffic', 0.250049352645874), ('amount', 0.24657811224460602), ('unauthorized', 0.23860685527324677), ('authentication', 0.23440112173557281), ('various', 0.22593338787555695), ('request', 0.22399692237377167)]\n",
      "bruteforcessh similar: [('connections', 0.30287304520606995), ('ssh', 0.28551244735717773), ('infected', 0.2846846580505371), ('software', 0.2817606031894684), ('http', 0.2808185815811157), ('spread', 0.27724364399909973), ('possible', 0.26109057664871216), ('detection', 0.2552298605442047), ('multiple', 0.2530195415019989), ('request', 0.23938706517219543)]\n",
      "bruteforceftp similar: [('amplifying', 0.3432019352912903), ('keys', 0.2989729344844818), ('flooding', 0.27058789134025574), ('crafted', 0.26484936475753784), ('attempts', 0.26425015926361084), ('internet', 0.2549719512462616), ('mechanisms', 0.25238510966300964), ('bruteforcexss', 0.25030553340911865), ('single', 0.2347518652677536), ('attempt', 0.22344018518924713)]\n",
      "bruteforcexss similar: [('try', 0.30974581837654114), ('causing', 0.30470988154411316), ('characters', 0.29611921310424805), ('possible', 0.29059532284736633), ('attackers', 0.28907155990600586), ('might', 0.28597575426101685), ('keys', 0.2813677489757538), ('server', 0.27673012018203735), ('application', 0.2736975848674774), ('flooding', 0.26592665910720825)]\n",
      "sqlinjection similar: [('phrases', 0.357089638710022), ('users', 0.3496989607810974), ('minimal', 0.3208860158920288), ('found', 0.3092276453971863), ('sqli', 0.30796241760253906), ('also', 0.3039858639240265), ('ability', 0.29757601022720337), ('allows', 0.2944561541080475), ('often', 0.29117733240127563), ('connections', 0.2855444848537445)]\n",
      "infiltration similar: [('processing', 0.2729955315589905), ('vulnerabilities', 0.217556431889534), ('persistent', 0.19448113441467285), ('memory', 0.1934065967798233), ('makes', 0.1927310973405838), ('crafted', 0.18984220921993256), ('found', 0.18732088804244995), ('login', 0.18728864192962646), ('typically', 0.1832602620124817), ('combinations', 0.15594279766082764)]\n",
      "botnet similar: [('tools', 0.3447248637676239), ('usernames', 0.3215682804584503), ('database', 0.302752822637558), ('floods', 0.2956301271915436), ('sensitive', 0.27646639943122864), ('attacks', 0.27608630061149597), ('online', 0.26252758502960205), ('file', 0.2623922824859619), ('requests', 0.2613794207572937), ('devices', 0.2574184238910675)]\n"
     ]
    }
   ],
   "source": [
    "def remove_punctuation_and_lower(text):\n",
    "  punct_translation_table = str.maketrans('', '', string.punctuation)\n",
    "  return text.translate(punct_translation_table).lower()\n",
    "\n",
    "word_list = [\"DDoS_HOIC\", \"DDoS_LOIC-HTTP\", \"DDoS_LOIC-UDP\", \"DoS_GoldenEye\", \"DoS_Hulk\", \"DoS_SlowHTTPTest\", \"DoS_Slowloris\", \"BruteForce-Web\", \"BruteForce-SSH\", \"BruteForce-FTP\", \"BruteForce-XSS\", \"SQL-Injection\", \"Infiltration\", \"Botnet\"]\n",
    "for word in word_list:\n",
    "    word = remove_punctuation_and_lower(word)\n",
    "    print(word, \"similar:\", model.wv.most_similar(word))"
   ]
  },
  {
   "cell_type": "code",
   "execution_count": null,
   "metadata": {},
   "outputs": [],
   "source": []
  }
 ],
 "metadata": {
  "kernelspec": {
   "display_name": "base",
   "language": "python",
   "name": "python3"
  },
  "language_info": {
   "codemirror_mode": {
    "name": "ipython",
    "version": 3
   },
   "file_extension": ".py",
   "mimetype": "text/x-python",
   "name": "python",
   "nbconvert_exporter": "python",
   "pygments_lexer": "ipython3",
   "version": "3.9.7"
  }
 },
 "nbformat": 4,
 "nbformat_minor": 2
}
